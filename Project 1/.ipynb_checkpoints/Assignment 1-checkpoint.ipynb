{
 "cells": [
  {
   "cell_type": "code",
   "execution_count": 1,
   "id": "0538d0ea",
   "metadata": {},
   "outputs": [],
   "source": [
    "import pandas as pd\n",
    "import numpy as np\n",
    "import matplotlib.pyplot as plt"
   ]
  },
  {
   "cell_type": "code",
   "execution_count": 2,
   "id": "fb40c174",
   "metadata": {
    "scrolled": true
   },
   "outputs": [
    {
     "data": {
      "text/plain": [
       "(768, 9)"
      ]
     },
     "execution_count": 2,
     "metadata": {},
     "output_type": "execute_result"
    }
   ],
   "source": [
    "#extracting feature values from data\n",
    "\n",
    "#read the comma seperated data from given csv file using pandas dataframe\n",
    "diabetes_data = pd.read_csv(\"diabetes.csv\") \n",
    "diabetes_data.shape"
   ]
  },
  {
   "cell_type": "code",
   "execution_count": 3,
   "id": "2bd5d686",
   "metadata": {
    "scrolled": true
   },
   "outputs": [
    {
     "data": {
      "text/html": [
       "<div>\n",
       "<style scoped>\n",
       "    .dataframe tbody tr th:only-of-type {\n",
       "        vertical-align: middle;\n",
       "    }\n",
       "\n",
       "    .dataframe tbody tr th {\n",
       "        vertical-align: top;\n",
       "    }\n",
       "\n",
       "    .dataframe thead th {\n",
       "        text-align: right;\n",
       "    }\n",
       "</style>\n",
       "<table border=\"1\" class=\"dataframe\">\n",
       "  <thead>\n",
       "    <tr style=\"text-align: right;\">\n",
       "      <th></th>\n",
       "      <th>Pregnancies</th>\n",
       "      <th>Glucose</th>\n",
       "      <th>BloodPressure</th>\n",
       "      <th>SkinThickness</th>\n",
       "      <th>Insulin</th>\n",
       "      <th>BMI</th>\n",
       "      <th>DiabetesPedigreeFunction</th>\n",
       "      <th>Age</th>\n",
       "      <th>Outcome</th>\n",
       "    </tr>\n",
       "  </thead>\n",
       "  <tbody>\n",
       "    <tr>\n",
       "      <th>count</th>\n",
       "      <td>768.000000</td>\n",
       "      <td>768.000000</td>\n",
       "      <td>768.000000</td>\n",
       "      <td>768.000000</td>\n",
       "      <td>768.000000</td>\n",
       "      <td>768.000000</td>\n",
       "      <td>768.000000</td>\n",
       "      <td>768.000000</td>\n",
       "      <td>768.000000</td>\n",
       "    </tr>\n",
       "    <tr>\n",
       "      <th>mean</th>\n",
       "      <td>3.845052</td>\n",
       "      <td>120.894531</td>\n",
       "      <td>69.105469</td>\n",
       "      <td>20.536458</td>\n",
       "      <td>79.799479</td>\n",
       "      <td>31.992578</td>\n",
       "      <td>0.471876</td>\n",
       "      <td>33.240885</td>\n",
       "      <td>0.348958</td>\n",
       "    </tr>\n",
       "    <tr>\n",
       "      <th>std</th>\n",
       "      <td>3.369578</td>\n",
       "      <td>31.972618</td>\n",
       "      <td>19.355807</td>\n",
       "      <td>15.952218</td>\n",
       "      <td>115.244002</td>\n",
       "      <td>7.884160</td>\n",
       "      <td>0.331329</td>\n",
       "      <td>11.760232</td>\n",
       "      <td>0.476951</td>\n",
       "    </tr>\n",
       "    <tr>\n",
       "      <th>min</th>\n",
       "      <td>0.000000</td>\n",
       "      <td>0.000000</td>\n",
       "      <td>0.000000</td>\n",
       "      <td>0.000000</td>\n",
       "      <td>0.000000</td>\n",
       "      <td>0.000000</td>\n",
       "      <td>0.078000</td>\n",
       "      <td>21.000000</td>\n",
       "      <td>0.000000</td>\n",
       "    </tr>\n",
       "    <tr>\n",
       "      <th>25%</th>\n",
       "      <td>1.000000</td>\n",
       "      <td>99.000000</td>\n",
       "      <td>62.000000</td>\n",
       "      <td>0.000000</td>\n",
       "      <td>0.000000</td>\n",
       "      <td>27.300000</td>\n",
       "      <td>0.243750</td>\n",
       "      <td>24.000000</td>\n",
       "      <td>0.000000</td>\n",
       "    </tr>\n",
       "    <tr>\n",
       "      <th>50%</th>\n",
       "      <td>3.000000</td>\n",
       "      <td>117.000000</td>\n",
       "      <td>72.000000</td>\n",
       "      <td>23.000000</td>\n",
       "      <td>30.500000</td>\n",
       "      <td>32.000000</td>\n",
       "      <td>0.372500</td>\n",
       "      <td>29.000000</td>\n",
       "      <td>0.000000</td>\n",
       "    </tr>\n",
       "    <tr>\n",
       "      <th>75%</th>\n",
       "      <td>6.000000</td>\n",
       "      <td>140.250000</td>\n",
       "      <td>80.000000</td>\n",
       "      <td>32.000000</td>\n",
       "      <td>127.250000</td>\n",
       "      <td>36.600000</td>\n",
       "      <td>0.626250</td>\n",
       "      <td>41.000000</td>\n",
       "      <td>1.000000</td>\n",
       "    </tr>\n",
       "    <tr>\n",
       "      <th>max</th>\n",
       "      <td>17.000000</td>\n",
       "      <td>199.000000</td>\n",
       "      <td>122.000000</td>\n",
       "      <td>99.000000</td>\n",
       "      <td>846.000000</td>\n",
       "      <td>67.100000</td>\n",
       "      <td>2.420000</td>\n",
       "      <td>81.000000</td>\n",
       "      <td>1.000000</td>\n",
       "    </tr>\n",
       "  </tbody>\n",
       "</table>\n",
       "</div>"
      ],
      "text/plain": [
       "       Pregnancies     Glucose  BloodPressure  SkinThickness     Insulin  \\\n",
       "count   768.000000  768.000000     768.000000     768.000000  768.000000   \n",
       "mean      3.845052  120.894531      69.105469      20.536458   79.799479   \n",
       "std       3.369578   31.972618      19.355807      15.952218  115.244002   \n",
       "min       0.000000    0.000000       0.000000       0.000000    0.000000   \n",
       "25%       1.000000   99.000000      62.000000       0.000000    0.000000   \n",
       "50%       3.000000  117.000000      72.000000      23.000000   30.500000   \n",
       "75%       6.000000  140.250000      80.000000      32.000000  127.250000   \n",
       "max      17.000000  199.000000     122.000000      99.000000  846.000000   \n",
       "\n",
       "              BMI  DiabetesPedigreeFunction         Age     Outcome  \n",
       "count  768.000000                768.000000  768.000000  768.000000  \n",
       "mean    31.992578                  0.471876   33.240885    0.348958  \n",
       "std      7.884160                  0.331329   11.760232    0.476951  \n",
       "min      0.000000                  0.078000   21.000000    0.000000  \n",
       "25%     27.300000                  0.243750   24.000000    0.000000  \n",
       "50%     32.000000                  0.372500   29.000000    0.000000  \n",
       "75%     36.600000                  0.626250   41.000000    1.000000  \n",
       "max     67.100000                  2.420000   81.000000    1.000000  "
      ]
     },
     "execution_count": 3,
     "metadata": {},
     "output_type": "execute_result"
    }
   ],
   "source": [
    "diabetes_data.describe() #showing statistical values"
   ]
  },
  {
   "cell_type": "code",
   "execution_count": 4,
   "id": "dc85afeb",
   "metadata": {},
   "outputs": [
    {
     "data": {
      "text/html": [
       "<div>\n",
       "<style scoped>\n",
       "    .dataframe tbody tr th:only-of-type {\n",
       "        vertical-align: middle;\n",
       "    }\n",
       "\n",
       "    .dataframe tbody tr th {\n",
       "        vertical-align: top;\n",
       "    }\n",
       "\n",
       "    .dataframe thead th {\n",
       "        text-align: right;\n",
       "    }\n",
       "</style>\n",
       "<table border=\"1\" class=\"dataframe\">\n",
       "  <thead>\n",
       "    <tr style=\"text-align: right;\">\n",
       "      <th></th>\n",
       "      <th>Pregnancies</th>\n",
       "      <th>Glucose</th>\n",
       "      <th>BloodPressure</th>\n",
       "      <th>SkinThickness</th>\n",
       "      <th>Insulin</th>\n",
       "      <th>BMI</th>\n",
       "      <th>DiabetesPedigreeFunction</th>\n",
       "      <th>Age</th>\n",
       "      <th>Outcome</th>\n",
       "    </tr>\n",
       "  </thead>\n",
       "  <tbody>\n",
       "    <tr>\n",
       "      <th>0</th>\n",
       "      <td>6</td>\n",
       "      <td>148</td>\n",
       "      <td>72</td>\n",
       "      <td>35</td>\n",
       "      <td>0</td>\n",
       "      <td>33.6</td>\n",
       "      <td>0.627</td>\n",
       "      <td>50</td>\n",
       "      <td>1</td>\n",
       "    </tr>\n",
       "    <tr>\n",
       "      <th>1</th>\n",
       "      <td>1</td>\n",
       "      <td>85</td>\n",
       "      <td>66</td>\n",
       "      <td>29</td>\n",
       "      <td>0</td>\n",
       "      <td>26.6</td>\n",
       "      <td>0.351</td>\n",
       "      <td>31</td>\n",
       "      <td>0</td>\n",
       "    </tr>\n",
       "    <tr>\n",
       "      <th>2</th>\n",
       "      <td>8</td>\n",
       "      <td>183</td>\n",
       "      <td>64</td>\n",
       "      <td>0</td>\n",
       "      <td>0</td>\n",
       "      <td>23.3</td>\n",
       "      <td>0.672</td>\n",
       "      <td>32</td>\n",
       "      <td>1</td>\n",
       "    </tr>\n",
       "    <tr>\n",
       "      <th>3</th>\n",
       "      <td>1</td>\n",
       "      <td>89</td>\n",
       "      <td>66</td>\n",
       "      <td>23</td>\n",
       "      <td>94</td>\n",
       "      <td>28.1</td>\n",
       "      <td>0.167</td>\n",
       "      <td>21</td>\n",
       "      <td>0</td>\n",
       "    </tr>\n",
       "    <tr>\n",
       "      <th>4</th>\n",
       "      <td>0</td>\n",
       "      <td>137</td>\n",
       "      <td>40</td>\n",
       "      <td>35</td>\n",
       "      <td>168</td>\n",
       "      <td>43.1</td>\n",
       "      <td>2.288</td>\n",
       "      <td>33</td>\n",
       "      <td>1</td>\n",
       "    </tr>\n",
       "  </tbody>\n",
       "</table>\n",
       "</div>"
      ],
      "text/plain": [
       "   Pregnancies  Glucose  BloodPressure  SkinThickness  Insulin   BMI  \\\n",
       "0            6      148             72             35        0  33.6   \n",
       "1            1       85             66             29        0  26.6   \n",
       "2            8      183             64              0        0  23.3   \n",
       "3            1       89             66             23       94  28.1   \n",
       "4            0      137             40             35      168  43.1   \n",
       "\n",
       "   DiabetesPedigreeFunction  Age  Outcome  \n",
       "0                     0.627   50        1  \n",
       "1                     0.351   31        0  \n",
       "2                     0.672   32        1  \n",
       "3                     0.167   21        0  \n",
       "4                     2.288   33        1  "
      ]
     },
     "execution_count": 4,
     "metadata": {},
     "output_type": "execute_result"
    }
   ],
   "source": [
    "#viewing the input features that determines the presence of diabetes\n",
    "\n",
    "diabetes_data.head(5)"
   ]
  },
  {
   "cell_type": "code",
   "execution_count": 5,
   "id": "c1570a97",
   "metadata": {},
   "outputs": [
    {
     "name": "stdout",
     "output_type": "stream",
     "text": [
      "(460, 8)\n",
      "(460,)\n",
      "(154, 8)\n",
      "(154,)\n",
      "(154, 8)\n",
      "(154,)\n"
     ]
    },
    {
     "data": {
      "text/plain": [
       "(None, None)"
      ]
     },
     "execution_count": 5,
     "metadata": {},
     "output_type": "execute_result"
    }
   ],
   "source": [
    "#partitioning the data\n",
    "\n",
    "from sklearn.model_selection import train_test_split\n",
    "\n",
    "#X contains input features without output attribute\n",
    "X = diabetes_data.drop(columns = ['Outcome']).copy()\n",
    "y = diabetes_data['Outcome']\n",
    "\n",
    "#training_data_size=60%\n",
    "X_train, X_valid_test, y_train, y_valid_test = train_test_split(X,y, train_size=0.6)\n",
    "\n",
    "#validating_data_size and testing_data_size = 20% each\n",
    "X_valid, X_test, y_valid, y_test = train_test_split(X_valid_test,y_valid_test, test_size=0.5)\n",
    "\n",
    "print(X_train.shape), print(y_train.shape)\n",
    "print(X_valid.shape), print(y_valid.shape)\n",
    "print(X_test.shape), print(y_test.shape)"
   ]
  },
  {
   "cell_type": "code",
   "execution_count": 6,
   "id": "9afc6748",
   "metadata": {},
   "outputs": [],
   "source": [
    "#converting pandas dataframe into numpy array\n",
    "\n",
    "X_train = X_train.values\n",
    "X_valid = X_valid.values\n",
    "X_test = X_test.values\n",
    "y_train = y_train.values\n",
    "y_valid = y_valid.values\n",
    "y_test = y_test.values"
   ]
  },
  {
   "cell_type": "code",
   "execution_count": 7,
   "id": "440234b9",
   "metadata": {},
   "outputs": [],
   "source": [
    "#reshaping the train,valid and test dataset\n",
    "\n",
    "X_train = X_train.T\n",
    "y_train = y_train.reshape(1, X_train.shape[1])\n",
    "\n",
    "X_valid = X_valid.T\n",
    "y_valid = y_valid.reshape(1, X_valid.shape[1])\n",
    "\n",
    "X_test = X_test.T\n",
    "y_test = y_test.reshape(1, X_test.shape[1])"
   ]
  },
  {
   "cell_type": "code",
   "execution_count": 8,
   "id": "e3b5b676",
   "metadata": {},
   "outputs": [
    {
     "name": "stdout",
     "output_type": "stream",
     "text": [
      "Shape of X_train :  (8, 460)\n",
      "Shape of y_train :  (1, 460)\n",
      "Shape of X_valid :  (8, 154)\n",
      "Shape of y_valid :  (1, 154)\n",
      "Shape of X_test :  (8, 154)\n",
      "Shape of y_test :  (1, 154)\n"
     ]
    }
   ],
   "source": [
    "print(\"Shape of X_train : \", X_train.shape)\n",
    "print(\"Shape of y_train : \", y_train.shape)\n",
    "print(\"Shape of X_valid : \", X_valid.shape)\n",
    "print(\"Shape of y_valid : \", y_valid.shape)\n",
    "print(\"Shape of X_test : \", X_test.shape)\n",
    "print(\"Shape of y_test : \", y_test.shape)"
   ]
  },
  {
   "cell_type": "code",
   "execution_count": 9,
   "id": "3d9262b9",
   "metadata": {},
   "outputs": [],
   "source": [
    "#defining sigmoid function \n",
    "def sigmoid(x):\n",
    "    return 1/(1 + np.exp(-x))"
   ]
  },
  {
   "cell_type": "code",
   "execution_count": 10,
   "id": "d0257b21",
   "metadata": {},
   "outputs": [],
   "source": [
    "#defining the cost function of logistic regression\n",
    "def cost_function(m,y,A):\n",
    "    return -(1/m)*np.sum( y*np.log(A) + (1-y)*np.log(1-A))"
   ]
  },
  {
   "cell_type": "code",
   "execution_count": 11,
   "id": "196e0232",
   "metadata": {},
   "outputs": [],
   "source": [
    "def print_cost(i,cost,epochs):\n",
    "    if(i%(epochs/10) == 0):\n",
    "        print(\"cost value in \", i, \"th epoch is : \", cost)"
   ]
  },
  {
   "cell_type": "code",
   "execution_count": 12,
   "id": "ec0ae59b",
   "metadata": {},
   "outputs": [],
   "source": [
    "#defining the model\n",
    "\n",
    "def logistic_regression_model(X, y, learning_rate, epochs):\n",
    "    \n",
    "    m = X_train.shape[1]\n",
    "    n = X_train.shape[0]\n",
    "    \n",
    "    W = np.zeros((n,1))\n",
    "    B = 0\n",
    "    \n",
    "    cost_values = []\n",
    "    validation_cost_values = []\n",
    "\n",
    "    for i in range(epochs):\n",
    "        \n",
    "        Z = np.dot(W.T, X) + B\n",
    "        A = sigmoid(Z)\n",
    "        \n",
    "        cost = cost_function(m,y,A)\n",
    "        \n",
    "        # Gradient Descent\n",
    "        dW = (1/m) * np.dot(A-y, X.T)\n",
    "        dB = (1/m) * np.sum(A - y)\n",
    "        \n",
    "        W = W - learning_rate * dW.T\n",
    "        B = B - learning_rate * dB\n",
    "\n",
    "        A_Valid = sigmoid(np.dot(W.T, X) + B)\n",
    "        validation_loss = cost_function(m,y,A_Valid)\n",
    "        validation_cost_values.append(validation_loss)\n",
    "        \n",
    "        cost_values.append(cost)\n",
    "        \n",
    "        print_cost(i,cost,epochs)\n",
    "        \n",
    "    return W, B, cost_values, validation_cost_values"
   ]
  },
  {
   "cell_type": "code",
   "execution_count": 47,
   "id": "964099f1",
   "metadata": {},
   "outputs": [
    {
     "name": "stdout",
     "output_type": "stream",
     "text": [
      "cost value in  0 th epoch is :  0.6931471805599452\n",
      "cost value in  100000 th epoch is :  0.5668594843631823\n",
      "cost value in  200000 th epoch is :  0.5446903291083106\n",
      "cost value in  300000 th epoch is :  0.5276300332043984\n",
      "cost value in  400000 th epoch is :  0.5144223844102679\n",
      "cost value in  500000 th epoch is :  0.5041155358952497\n",
      "cost value in  600000 th epoch is :  0.49599890542437103\n",
      "cost value in  700000 th epoch is :  0.4895466606701613\n",
      "cost value in  800000 th epoch is :  0.48437022274758307\n",
      "cost value in  900000 th epoch is :  0.4801812572610455\n"
     ]
    }
   ],
   "source": [
    "epochs = 1000000\n",
    "learning_rate = 0.00024\n",
    "W, B, cost_values, validation_cost_values = logistic_regression_model(X_train, y_train, learning_rate = learning_rate, epochs = epochs)"
   ]
  },
  {
   "cell_type": "code",
   "execution_count": 48,
   "id": "dd6d3a4c",
   "metadata": {
    "scrolled": true
   },
   "outputs": [
    {
     "data": {
      "image/png": "[encoded data removed]",
      "text/plain": [
       "<Figure size 432x288 with 1 Axes>"
      ]
     },
     "metadata": {
      "needs_background": "light"
     },
     "output_type": "display_data"
    }
   ],
   "source": [
    "#plt.plot(np.range(iterations), cost_values)\n",
    "plt.plot(range(epochs), cost_values)\n",
    "plt.xlabel('Number of epochs')\n",
    "plt.ylabel('Training Loss')\n",
    "plt.show()"
   ]
  },
  {
   "cell_type": "code",
   "execution_count": 49,
   "id": "1f935fdf",
   "metadata": {},
   "outputs": [],
   "source": [
    "def accuracy(X, Y, W, B):\n",
    "    \n",
    "    Z = np.dot(W.T, X) + B\n",
    "    A = sigmoid(Z)\n",
    "    \n",
    "    A = A > 0.5\n",
    "    \n",
    "    A = np.array(A, dtype = 'int64')\n",
    "    \n",
    "    acc = (1 - np.sum(np.absolute(A - Y))/Y.shape[1])*100\n",
    "    \n",
    "    print(\"Accuracy of the diabetes prediction model using logistic regression is : \", round(acc, 2), \"%\")"
   ]
  },
  {
   "cell_type": "code",
   "execution_count": 50,
   "id": "3be996a1",
   "metadata": {},
   "outputs": [
    {
     "name": "stdout",
     "output_type": "stream",
     "text": [
      "Accuracy of the diabetes prediction model using logistic regression is :  79.87 %\n"
     ]
    }
   ],
   "source": [
    "accuracy(X_valid, y_valid, W, B)"
   ]
  },
  {
   "cell_type": "code",
   "execution_count": 59,
   "id": "588b16da",
   "metadata": {},
   "outputs": [
    {
     "name": "stdout",
     "output_type": "stream",
     "text": [
      "cost value in  0 th epoch is :  0.23205362131789475\n",
      "cost value in  100000 th epoch is :  0.20029992478772493\n",
      "cost value in  200000 th epoch is :  0.19671993947609331\n",
      "cost value in  300000 th epoch is :  0.19348536682537285\n",
      "cost value in  400000 th epoch is :  0.190558444643274\n",
      "cost value in  500000 th epoch is :  0.18790514489900736\n",
      "cost value in  600000 th epoch is :  0.18549508090704542\n",
      "cost value in  700000 th epoch is :  0.18330130130408578\n",
      "cost value in  800000 th epoch is :  0.18130001642823532\n",
      "cost value in  900000 th epoch is :  0.17947029348667196\n"
     ]
    }
   ],
   "source": [
    "W, B, cost_values, validation_cost_values = logistic_regression_model(X_valid, y_valid, learning_rate = learning_rate, epochs = epochs)"
   ]
  },
  {
   "cell_type": "code",
   "execution_count": 60,
   "id": "a925872e",
   "metadata": {},
   "outputs": [
    {
     "data": {
      "image/png": "[encoded data removed]",
      "text/plain": [
       "<Figure size 432x288 with 1 Axes>"
      ]
     },
     "metadata": {
      "needs_background": "light"
     },
     "output_type": "display_data"
    }
   ],
   "source": [
    "#plt.plot(np.range(iterations), validation_cost_values)\n",
    "plt.plot(range(epochs), validation_cost_values)\n",
    "plt.xlabel('Number of epochs')\n",
    "plt.ylabel('Validation Loss')\n",
    "plt.show()"
   ]
  },
  {
   "cell_type": "code",
   "execution_count": 61,
   "id": "234b0001",
   "metadata": {},
   "outputs": [
    {
     "name": "stdout",
     "output_type": "stream",
     "text": [
      "Accuracy of the diabetes prediction model using logistic regression is :  64.94 %\n"
     ]
    }
   ],
   "source": [
    "accuracy(X_test, y_test, W, B)"
   ]
  },
  {
   "cell_type": "code",
   "execution_count": null,
   "id": "c6ff44c4",
   "metadata": {},
   "outputs": [],
   "source": []
  }
 ],
 "metadata": {
  "kernelspec": {
   "display_name": "Python 3",
   "language": "python",
   "name": "python3"
  },
  "language_info": {
   "codemirror_mode": {
    "name": "ipython",
    "version": 3
   },
   "file_extension": ".py",
   "mimetype": "text/x-python",
   "name": "python",
   "nbconvert_exporter": "python",
   "pygments_lexer": "ipython3",
   "version": "3.8.8"
  }
 },
 "nbformat": 4,
 "nbformat_minor": 5
}
